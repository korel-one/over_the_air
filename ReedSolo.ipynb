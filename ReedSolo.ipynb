{
 "cells": [
  {
   "cell_type": "code",
   "execution_count": 1,
   "metadata": {},
   "outputs": [],
   "source": [
    "import sys\n",
    "import numpy as np\n",
    "from functools import reduce\n",
    "import sounddevice as sd\n",
    "\n",
    "from pam import SoundCommunication"
   ]
  },
  {
   "cell_type": "code",
   "execution_count": 2,
   "metadata": {},
   "outputs": [],
   "source": [
    "import reedsolo as rs"
   ]
  },
  {
   "cell_type": "code",
   "execution_count": 3,
   "metadata": {},
   "outputs": [],
   "source": [
    "# sampling rate\n",
    "FS = 44100"
   ]
  },
  {
   "cell_type": "code",
   "execution_count": 4,
   "metadata": {},
   "outputs": [],
   "source": [
    "def pad(W, padding=0.5):\n",
    "    return np.hstack((np.zeros(int(FS*padding)), W, np.zeros(int(FS*padding))))"
   ]
  },
  {
   "cell_type": "code",
   "execution_count": 5,
   "metadata": {},
   "outputs": [],
   "source": [
    "def encode_rs(text):\n",
    "\n",
    "    num_parity = 80\n",
    "    assert len(text) < 255 - num_parity\n",
    "    msg_bytes = text.encode('ascii')\n",
    "    \n",
    "    msg_bytes = b'\\x00' * (255 - num_parity - len(msg_bytes)) + msg_bytes\n",
    "\n",
    "    codec = rs.RSCodec(num_parity)\n",
    "    return codec.encode(msg_bytes)"
   ]
  },
  {
   "cell_type": "code",
   "execution_count": 6,
   "metadata": {},
   "outputs": [],
   "source": [
    "text = \"\"\"\n",
    "codec = rs.RSCodec(num_parity)\n",
    "msg_bytes = codec.decode(msg_bytes_rs)\n",
    "while msg_bytes[0] == 0:\n",
    "msg_bytes = msg_bytes[1:]\n",
    "return msg_bytes\n",
    "\"\"\""
   ]
  },
  {
   "cell_type": "code",
   "execution_count": 7,
   "metadata": {},
   "outputs": [],
   "source": [
    "def decode_rs(msg_bytes_rs):\n",
    "    num_parity = 80\n",
    "\n",
    "    codec = rs.RSCodec(num_parity)\n",
    "    msg_bytes = codec.decode(msg_bytes_rs)\n",
    "    while msg_bytes[0] == 0:\n",
    "        msg_bytes = msg_bytes[1:]\n",
    "    return msg_bytes"
   ]
  },
  {
   "cell_type": "code",
   "execution_count": 8,
   "metadata": {},
   "outputs": [],
   "source": [
    "comm = SoundCommunication(FS, 200, 1000, 2000, msgSymLen=255*8)\n",
    "from testing import Tester\n",
    "t = Tester(comm)\n"
   ]
  },
  {
   "cell_type": "code",
   "execution_count": 9,
   "metadata": {},
   "outputs": [
    {
     "data": {
      "text/plain": [
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n",
       " 0.09509803921568627,\n",
       " 194)"
      ]
     },
     "execution_count": 9,
     "metadata": {},
     "output_type": "execute_result"
    }
   ],
   "source": [
    "r = encode_rs(text)\n",
    "S = comm.send(r)\n",
    "W = t.addBandpassNoise(S, 4, 0)\n",
    "rw = comm.decode(W)\n",
    "t.diff(r,rw)"
   ]
  },
  {
   "cell_type": "code",
   "execution_count": 24,
   "metadata": {},
   "outputs": [],
   "source": [
    "res = decode_rs(rw)"
   ]
  }
 ],
 "metadata": {
  "kernelspec": {
   "display_name": "Python 3",
   "language": "python",
   "name": "python3"
  },
  "language_info": {
   "codemirror_mode": {
    "name": "ipython",
    "version": 3
   },
   "file_extension": ".py",
   "mimetype": "text/x-python",
   "name": "python",
   "nbconvert_exporter": "python",
   "pygments_lexer": "ipython3",
   "version": "3.6.5"
  }
 },
 "nbformat": 4,
 "nbformat_minor": 2
}
