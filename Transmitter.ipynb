{
 "cells": [
  {
   "cell_type": "code",
   "execution_count": 1,
   "metadata": {},
   "outputs": [],
   "source": [
    "import sounddevice as sd\n",
    "import numpy as np\n",
    "import matplotlib.pyplot as plt\n",
    "%matplotlib inline"
   ]
  },
  {
   "cell_type": "code",
   "execution_count": 2,
   "metadata": {},
   "outputs": [],
   "source": [
    "FS = 44100 #sampling frequency"
   ]
  },
  {
   "cell_type": "code",
   "execution_count": 3,
   "metadata": {},
   "outputs": [],
   "source": [
    "def create_t(length_seconds):\n",
    "    return np.linspace(0, length_seconds, int(FS*length_seconds))"
   ]
  },
  {
   "cell_type": "code",
   "execution_count": 4,
   "metadata": {},
   "outputs": [],
   "source": [
    "bitT = 0.01"
   ]
  },
  {
   "cell_type": "code",
   "execution_count": 5,
   "metadata": {},
   "outputs": [],
   "source": [
    "S0 = np.sin(create_t(bitT)*2*np.pi* 1300)\n",
    "S1 = np.sin(create_t(bitT)*2*np.pi*1700)"
   ]
  },
  {
   "cell_type": "code",
   "execution_count": 6,
   "metadata": {},
   "outputs": [],
   "source": [
    "synT = create_t(bitT*10)\n",
    "synS = np.cos(synT*2*np.pi*1500)"
   ]
  },
  {
   "cell_type": "code",
   "execution_count": 7,
   "metadata": {},
   "outputs": [],
   "source": [
    "get_pulse = {'0':S0, '1':S1}"
   ]
  },
  {
   "cell_type": "code",
   "execution_count": 8,
   "metadata": {},
   "outputs": [],
   "source": [
    "STR = \"Hello, world\""
   ]
  },
  {
   "cell_type": "code",
   "execution_count": 9,
   "metadata": {},
   "outputs": [],
   "source": [
    "def str2bits(str):\n",
    "    res = bin(int.from_bytes(str.encode('ascii'), 'big'))[2:]\n",
    "    return '0'*(8 - (len(res) % 8)) + res"
   ]
  },
  {
   "cell_type": "code",
   "execution_count": 10,
   "metadata": {},
   "outputs": [],
   "source": [
    "r = str2bits(STR)"
   ]
  },
  {
   "cell_type": "code",
   "execution_count": 11,
   "metadata": {},
   "outputs": [
    {
     "data": {
      "text/plain": [
       "'010010000110010101101100011011000110111100101100001000000111011101101111011100100110110001100100'"
      ]
     },
     "execution_count": 11,
     "metadata": {},
     "output_type": "execute_result"
    }
   ],
   "source": [
    "r"
   ]
  },
  {
   "cell_type": "code",
   "execution_count": 12,
   "metadata": {},
   "outputs": [],
   "source": [
    "def send(binstream):\n",
    "    SigLen = S0.size\n",
    "    n = len(binstream)\n",
    "    S = np.empty(n*SigLen + synS.size)\n",
    "    c = 0\n",
    "    S[:synS.size] = synS\n",
    "    for b in binstream:\n",
    "        S[c*SigLen + synS.size:(c+1)*SigLen + synS.size] = get_pulse[b]\n",
    "        c+=1 \n",
    "    return S"
   ]
  },
  {
   "cell_type": "code",
   "execution_count": 13,
   "metadata": {},
   "outputs": [],
   "source": [
    "W = send(r)"
   ]
  },
  {
   "cell_type": "code",
   "execution_count": 14,
   "metadata": {},
   "outputs": [
    {
     "name": "stdout",
     "output_type": "stream",
     "text": [
      "CPU times: user 50 ms, sys: 0 ns, total: 50 ms\n",
      "Wall time: 42.7 ms\n"
     ]
    },
    {
     "data": {
      "text/plain": [
       "array([ 2.20550000e+03,  2.15432495e+03,  2.00531338e+03, ...,\n",
       "        4.70174331e+00,  2.39977527e+00, -7.14398093e-02])"
      ]
     },
     "execution_count": 14,
     "metadata": {},
     "output_type": "execute_result"
    }
   ],
   "source": [
    "%%time\n",
    "np.correlate(W, synS, 'valid')"
   ]
  },
  {
   "cell_type": "code",
   "execution_count": 15,
   "metadata": {},
   "outputs": [],
   "source": [
    "def decode(W):\n",
    "    corr = np.correlate(W, synS, 'valid')\n",
    "    start_syn = np.argmax(corr)\n",
    "    start = start_syn + synS.size\n",
    "    result = ''\n",
    "    rlen = int((W.size)/(bitT*FS))\n",
    "    for i in range(len(STR)*8):\n",
    "        symStart = start + int(i*bitT*FS)\n",
    "        symEnd = symStart + int(bitT*FS)\n",
    "        S0max = np.max(np.correlate(W[symStart:symEnd], S0[:S0.size//2]))\n",
    "        S1max = np.max(np.correlate(W[symStart:symEnd], S1[:S1.size//2]))\n",
    "        result += '0' if S0max > S1max else '1'\n",
    "    return result"
   ]
  },
  {
   "cell_type": "code",
   "execution_count": 16,
   "metadata": {},
   "outputs": [
    {
     "data": {
      "text/plain": [
       "'010010000110010101101100011011000110111100101100001000000111011101101111011100100110110001100100'"
      ]
     },
     "execution_count": 16,
     "metadata": {},
     "output_type": "execute_result"
    }
   ],
   "source": [
    "decode(np.hstack((np.random.normal(0, 1, 1050), W, np.random.normal(0,1, 1000))))"
   ]
  },
  {
   "cell_type": "code",
   "execution_count": 17,
   "metadata": {},
   "outputs": [
    {
     "data": {
      "text/plain": [
       "'010010000110010101101100011011000110111100101100001000000111011101101111011100100110110001100100'"
      ]
     },
     "execution_count": 17,
     "metadata": {},
     "output_type": "execute_result"
    }
   ],
   "source": [
    "r"
   ]
  },
  {
   "cell_type": "code",
   "execution_count": 18,
   "metadata": {},
   "outputs": [
    {
     "data": {
      "text/plain": [
       "True"
      ]
     },
     "execution_count": 18,
     "metadata": {},
     "output_type": "execute_result"
    }
   ],
   "source": [
    "r == decode(W)"
   ]
  },
  {
   "cell_type": "code",
   "execution_count": 19,
   "metadata": {},
   "outputs": [
    {
     "name": "stdout",
     "output_type": "stream",
     "text": [
      "CPU times: user 50 ms, sys: 0 ns, total: 50 ms\n",
      "Wall time: 48.6 ms\n"
     ]
    },
    {
     "data": {
      "text/plain": [
       "'010010000110010101101100011011000110111100101100001000000111011101101111011100100110110001100100'"
      ]
     },
     "execution_count": 19,
     "metadata": {},
     "output_type": "execute_result"
    }
   ],
   "source": [
    "%%time\n",
    "decode(W)"
   ]
  },
  {
   "cell_type": "code",
   "execution_count": 20,
   "metadata": {},
   "outputs": [
    {
     "data": {
      "text/plain": [
       "True"
      ]
     },
     "execution_count": 20,
     "metadata": {},
     "output_type": "execute_result"
    }
   ],
   "source": [
    "sigma = 1\n",
    "Wnoise = W + np.random.normal(0, sigma, W.size)\n",
    "decode(Wnoise) == r"
   ]
  },
  {
   "cell_type": "code",
   "execution_count": 33,
   "metadata": {},
   "outputs": [],
   "source": [
    "col_noise = bandpass_noise(1, 100)"
   ]
  },
  {
   "cell_type": "code",
   "execution_count": 32,
   "metadata": {},
   "outputs": [],
   "source": [
    "#generate colored white noise\n",
    "from scipy.fftpack import rfft, irfft, fftfreq\n",
    "\n",
    "def bandpass_noise(sigma_pass, sigma_out):\n",
    "    white_noise = np.random.normal(0, 1, W.size)\n",
    "\n",
    "    freq = fftfreq(white_noise.size, d = 1/FS)\n",
    "    f_wnoise = rfft(white_noise)\n",
    "\n",
    "    # If our original signal time was in seconds, this is now in Hz\n",
    "    out_of_band_mask = np.logical_or(np.logical_and(freq < 2000, freq > 1000), np.logical_and(freq > -2000,freq < -1000))\n",
    "    in_band_mask = np.logical_not(out_of_band_mask)\n",
    "    f_wnoise[out_of_band_mask] *= sigma_out\n",
    "    f_wnoise[in_band_mask] *= sigma_pass\n",
    "    return irfft(f_wnoise)"
   ]
  },
  {
   "cell_type": "code",
   "execution_count": 108,
   "metadata": {},
   "outputs": [
    {
     "data": {
      "text/plain": [
       "False"
      ]
     },
     "execution_count": 108,
     "metadata": {},
     "output_type": "execute_result"
    }
   ],
   "source": [
    "decode(W*0.1 + bandpass_noise(0.1, 4)) == r"
   ]
  },
  {
   "cell_type": "code",
   "execution_count": 29,
   "metadata": {},
   "outputs": [
    {
     "data": {
      "text/plain": [
       "[<matplotlib.lines.Line2D at 0x7f071820d630>]"
      ]
     },
     "execution_count": 29,
     "metadata": {},
     "output_type": "execute_result"
    },
    {
     "data": {
      "image/png": "[encoded data removed]",
      "text/plain": [
       "<matplotlib.figure.Figure at 0x7f071828f438>"
      ]
     },
     "metadata": {},
     "output_type": "display_data"
    }
   ],
   "source": [
    "plt.plot(fftfreq(W.size, d = 1/FS), rfft(col_noise))"
   ]
  },
  {
   "cell_type": "code",
   "execution_count": 97,
   "metadata": {},
   "outputs": [],
   "source": [
    "sd.play(W*0.1 + bandpass_noise(0.1, 2), FS)"
   ]
  },
  {
   "cell_type": "code",
   "execution_count": 90,
   "metadata": {},
   "outputs": [
    {
     "data": {
      "text/plain": [
       "-1.0"
      ]
     },
     "execution_count": 90,
     "metadata": {},
     "output_type": "execute_result"
    }
   ],
   "source": []
  },
  {
   "cell_type": "code",
   "execution_count": 87,
   "metadata": {},
   "outputs": [
    {
     "name": "stdout",
     "output_type": "stream",
     "text": [
      "Help on function play in module sounddevice:\n",
      "\n",
      "play(data, samplerate=None, mapping=None, blocking=False, loop=False, **kwargs)\n",
      "    Play back a NumPy array containing audio data.\n",
      "    \n",
      "    Parameters\n",
      "    ----------\n",
      "    data : array_like\n",
      "        Audio data to be played back.  The columns of a two-dimensional\n",
      "        array are interpreted as channels, one-dimensional arrays are\n",
      "        treated as mono data.\n",
      "        The data types *float64*, *float32*, *int32*, *int16*, *int8*\n",
      "        and *uint8* can be used.\n",
      "        *float64* data is simply converted to *float32* before passing\n",
      "        it to PortAudio, because it's not supported natively.\n",
      "    mapping : array_like, optional\n",
      "        List of channel numbers (starting with 1) where the columns of\n",
      "        *data* shall be played back on.  Must have the same length as\n",
      "        number of channels in *data* (except if *data* is mono, in which\n",
      "        case the signal is played back on all given output channels).\n",
      "        Each channel number may only appear once in *mapping*.\n",
      "    blocking : bool, optional\n",
      "        If ``False`` (the default), return immediately (but playback\n",
      "        continues in the background), if ``True``, wait until playback\n",
      "        is finished.  A non-blocking invocation can be stopped with\n",
      "        `stop()` or turned into a blocking one with `wait()`.\n",
      "    loop : bool, optional\n",
      "        Play *data* in a loop.\n",
      "    \n",
      "    Other Parameters\n",
      "    ----------------\n",
      "    samplerate, **kwargs\n",
      "        All parameters of `OutputStream` -- except *channels*, *dtype*,\n",
      "        *callback* and *finished_callback* -- can be used.\n",
      "    \n",
      "    See Also\n",
      "    --------\n",
      "    rec, playrec\n",
      "\n"
     ]
    }
   ],
   "source": [
    "help(sd.play)"
   ]
  },
  {
   "cell_type": "code",
   "execution_count": null,
   "metadata": {},
   "outputs": [],
   "source": [
    "np.min(Wnoise)"
   ]
  },
  {
   "cell_type": "code",
   "execution_count": null,
   "metadata": {},
   "outputs": [],
   "source": [
    "plt.plot(Wnoise[44000:45000])"
   ]
  },
  {
   "cell_type": "code",
   "execution_count": null,
   "metadata": {},
   "outputs": [],
   "source": [
    "bitT = 1\n",
    "np.sin(bitT/2*600)/(bitT/2*600)"
   ]
  }
 ],
 "metadata": {
  "kernelspec": {
   "display_name": "Python 3",
   "language": "python",
   "name": "python3"
  },
  "language_info": {
   "codemirror_mode": {
    "name": "ipython",
    "version": 3
   },
   "file_extension": ".py",
   "mimetype": "text/x-python",
   "name": "python",
   "nbconvert_exporter": "python",
   "pygments_lexer": "ipython3",
   "version": "3.6.4"
  }
 },
 "nbformat": 4,
 "nbformat_minor": 2
}
