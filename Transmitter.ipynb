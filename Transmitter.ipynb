{
 "cells": [
  {
   "cell_type": "code",
   "execution_count": 269,
   "metadata": {},
   "outputs": [],
   "source": [
    "import sys\n",
    "import numpy as np\n",
    "from functools import reduce\n",
    "import sounddevice as sd\n",
    "\n",
    "from pam import SoundCommunication"
   ]
  },
  {
   "cell_type": "code",
   "execution_count": 270,
   "metadata": {},
   "outputs": [],
   "source": [
    "import unireedsolomon.rs as rs"
   ]
  },
  {
   "cell_type": "code",
   "execution_count": 271,
   "metadata": {},
   "outputs": [],
   "source": [
    "# sampling rate\n",
    "FS = 44100"
   ]
  },
  {
   "cell_type": "code",
   "execution_count": 272,
   "metadata": {},
   "outputs": [],
   "source": [
    "def prepare_chunks(text, chunk_size):\n",
    "    text_size = len(text)\n",
    "    \n",
    "    N_chunks = text_size//chunk_size if text_size%chunk_size == 0 else text_size//chunk_size + 1\n",
    "    \n",
    "    chunks = []\n",
    "    for i in range(N_chunks-1):\n",
    "        l = i*chunk_size\n",
    "        r = i*chunk_size + chunk_size\n",
    "        \n",
    "        chunks.append(text[l:r])\n",
    "    chunks.append(text[chunk_size*(N_chunks-1):len(text)])\n",
    "    return chunks"
   ]
  },
  {
   "cell_type": "code",
   "execution_count": 273,
   "metadata": {},
   "outputs": [],
   "source": [
    "def encode_rs(msg):\n",
    "    rs_coder = rs.RSCoder(255, 185)\n",
    "    return rs_coder.encode(msg)"
   ]
  },
  {
   "cell_type": "code",
   "execution_count": 275,
   "metadata": {},
   "outputs": [],
   "source": [
    "def text2bits(text):\n",
    "    bytes_ = bytes(text, 'utf-8')\n",
    "\n",
    "    bits = str()\n",
    "    for b in bytes_:\n",
    "        res = bin(b)[2:]\n",
    "        res2 = '0'*(0 if len(res)%8 == 0 else 8 - len(res)%8) + res\n",
    "      \n",
    "        assert len(res2) == 8\n",
    "        bits += res2\n",
    "    return bits"
   ]
  },
  {
   "cell_type": "code",
   "execution_count": 276,
   "metadata": {},
   "outputs": [],
   "source": [
    "def pad(W, padding=0.5):\n",
    "    return np.hstack((np.zeros(int(FS*padding)), W, np.zeros(int(FS*padding))))"
   ]
  },
  {
   "cell_type": "code",
   "execution_count": 281,
   "metadata": {},
   "outputs": [],
   "source": [
    "def transmit(text):\n",
    "    text_rs = encode_rs(text)\n",
    "    text_bits = text2bits(text_rs)\n",
    "    print(len(text_bits))\n",
    "    comm = SoundCommunication(FS, 200, 1000, 2000, msgSymLen=len(text_bits))\n",
    "    S = comm.send(text_bits)\n",
    "    sd.play(pad(S), FS)"
   ]
  },
  {
   "cell_type": "code",
   "execution_count": 282,
   "metadata": {},
   "outputs": [
    {
     "name": "stdout",
     "output_type": "stream",
     "text": [
      "2328\n"
     ]
    }
   ],
   "source": [
    "merge_lines = lambda text, l: l if not text else text + l\n",
    "\n",
    "with open('text.txt') as f:\n",
    "    lines = f.readlines()\n",
    "    text = reduce(merge_lines, lines, '')\n",
    "\n",
    "transmit(text)"
   ]
  },
  {
   "cell_type": "code",
   "execution_count": 283,
   "metadata": {},
   "outputs": [],
   "source": [
    "sd.stop()"
   ]
  },
  {
   "cell_type": "code",
   "execution_count": null,
   "metadata": {},
   "outputs": [],
   "source": []
  }
 ],
 "metadata": {
  "kernelspec": {
   "display_name": "Python 3",
   "language": "python",
   "name": "python3"
  },
  "language_info": {
   "codemirror_mode": {
    "name": "ipython",
    "version": 3
   },
   "file_extension": ".py",
   "mimetype": "text/x-python",
   "name": "python",
   "nbconvert_exporter": "python",
   "pygments_lexer": "ipython3",
   "version": "3.6.4"
  }
 },
 "nbformat": 4,
 "nbformat_minor": 2
}
