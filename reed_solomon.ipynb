{
 "cells": [
  {
   "cell_type": "code",
   "execution_count": 36,
   "metadata": {},
   "outputs": [],
   "source": [
    "# pip install unireedsolomon"
   ]
  },
  {
   "cell_type": "code",
   "execution_count": 1,
   "metadata": {},
   "outputs": [],
   "source": [
    "import unireedsolomon.rs as rs"
   ]
  },
  {
   "cell_type": "code",
   "execution_count": 2,
   "metadata": {},
   "outputs": [],
   "source": [
    "msg = \"\"\"\n",
    "[ 7071.657145] CPU3: Core temperature above threshold, cpu clock throttled (total events = 88)\n",
    "[ 7071.657156] CPU2: Core temperature above threshold, cpu cloc\n",
    "\"\"\""
   ]
  },
  {
   "cell_type": "code",
   "execution_count": 3,
   "metadata": {},
   "outputs": [],
   "source": [
    "def str2bits(str):\n",
    "    res = bin(int.from_bytes(str.encode('ascii'), 'big'))[2:]\n",
    "    return '0'*(8 - (len(res) % 8)) + res"
   ]
  },
  {
   "cell_type": "code",
   "execution_count": 19,
   "metadata": {},
   "outputs": [],
   "source": [
    "msg_bits = str2bits(msg)"
   ]
  },
  {
   "cell_type": "code",
   "execution_count": 20,
   "metadata": {},
   "outputs": [
    {
     "name": "stdout",
     "output_type": "stream",
     "text": [
      "<class 'str'>\n",
      "00001010010110110010000000110111001100000011011100110001001011100011011000110101001101110011000100110100001101010101110100100000010000110101000001010101001100110011101000100000010000110110111101110010011001010010000001110100011001010110110101110000011001010111001001100001011101000111010101110010011001010010000001100001011000100110111101110110011001010010000001110100011010000111001001100101011100110110100001101111011011000110010000101100001000000110001101110000011101010010000001100011011011000110111101100011011010110010000001110100011010000111001001101111011101000111010001101100011001010110010000100000001010000111010001101111011101000110000101101100001000000110010101110110011001010110111001110100011100110010000000111101001000000011100000111000001010010000101001011011001000000011011100110000001101110011000100101110001101100011010100110111001100010011010100110110010111010010000001000011010100000101010100110010001110100010000001000011011011110111001001100101001000000111010001100101011011010111000001100101011100100110000101110100011101010111001001100101001000000110000101100010011011110111011001100101001000000111010001101000011100100110010101110011011010000110111101101100011001000010110000100000011000110111000001110101001000000110001101101100011011110110001100001010\n"
     ]
    }
   ],
   "source": [
    "print(type(msg_bits))\n",
    "print(msg_bits)"
   ]
  },
  {
   "cell_type": "code",
   "execution_count": 5,
   "metadata": {},
   "outputs": [],
   "source": [
    "def bits2str(bits):\n",
    "    r = b''\n",
    "    for i in range(0, len(bits), 8):\n",
    "        r += int(bits[i:i+8], 2).to_bytes(1, 'big')\n",
    "    return r.decode('latin_1')"
   ]
  },
  {
   "cell_type": "code",
   "execution_count": 21,
   "metadata": {},
   "outputs": [
    {
     "data": {
      "text/plain": [
       "'\\n[ 7071.657145] CPU3: Core temperature above threshold, cpu clock throttled (total events = 88)\\n[ 7071.657156] CPU2: Core temperature above threshold, cpu cloc\\n'"
      ]
     },
     "execution_count": 21,
     "metadata": {},
     "output_type": "execute_result"
    }
   ],
   "source": [
    "bits2str(msg_bits)"
   ]
  },
  {
   "cell_type": "code",
   "execution_count": 22,
   "metadata": {},
   "outputs": [],
   "source": [
    "# can recover up tp 16 bytes\n",
    "coder1 = rs.RSCoder(255,223)"
   ]
  },
  {
   "cell_type": "code",
   "execution_count": 26,
   "metadata": {},
   "outputs": [],
   "source": [
    "chunks = []\n",
    "chunks_rs = []\n",
    "N_chunks = len(msg_bits)//223 if len(msg_bits)%223 == 0 else len(msg_bits)//223 + 1"
   ]
  },
  {
   "cell_type": "code",
   "execution_count": 27,
   "metadata": {},
   "outputs": [
    {
     "data": {
      "text/plain": [
       "6"
      ]
     },
     "execution_count": 27,
     "metadata": {},
     "output_type": "execute_result"
    }
   ],
   "source": [
    "N_chunks"
   ]
  },
  {
   "cell_type": "code",
   "execution_count": 28,
   "metadata": {},
   "outputs": [],
   "source": [
    "for i in range(N_chunks):\n",
    "    l = i*223\n",
    "    r = len(msg_bits) if i*223 + 223 > len(msg_bits) else i*223+223\n",
    "    \n",
    "    bits_block = msg_bits[l:r]\n",
    "    chunks.append(bits_block)\n",
    "    chunks_rs.append(coder1.encode(bits_block))"
   ]
  },
  {
   "cell_type": "code",
   "execution_count": 29,
   "metadata": {},
   "outputs": [
    {
     "data": {
      "text/plain": [
       "'0000101001011011001000000011011100110000001101110011000100101110001101100011010100110111001100010011010000110101010111010010000001000011010100000101010100110011001110100010000001000011011011110111001001100101001000000111010'"
      ]
     },
     "execution_count": 29,
     "metadata": {},
     "output_type": "execute_result"
    }
   ],
   "source": [
    "chunks[0]"
   ]
  },
  {
   "cell_type": "code",
   "execution_count": 30,
   "metadata": {},
   "outputs": [
    {
     "data": {
      "text/plain": [
       "'0000101001011011001000000011011100110000001101110011000100101110001101100011010100110111001100010011010000110101010111010010000001000011010100000101010100110011001110100010000001000011011011110111001001100101001000000111010G#Ã\"]÷@Ó\\x9b\\x16ÎîH´zoKçðîy.Ày*rð\\x80ÌN¨|'"
      ]
     },
     "execution_count": 30,
     "metadata": {},
     "output_type": "execute_result"
    }
   ],
   "source": [
    "chunks_rs[0]"
   ]
  },
  {
   "cell_type": "code",
   "execution_count": 35,
   "metadata": {},
   "outputs": [],
   "source": [
    "#============== sanity check"
   ]
  },
  {
   "cell_type": "code",
   "execution_count": 31,
   "metadata": {},
   "outputs": [],
   "source": [
    "coder2 = rs.RSCoder(255,223)"
   ]
  },
  {
   "cell_type": "code",
   "execution_count": 33,
   "metadata": {},
   "outputs": [
    {
     "data": {
      "text/plain": [
       "True"
      ]
     },
     "execution_count": 33,
     "metadata": {},
     "output_type": "execute_result"
    }
   ],
   "source": [
    "coder2.decode(chunks_rs[0])[0] == chunks[0]"
   ]
  },
  {
   "cell_type": "code",
   "execution_count": 34,
   "metadata": {},
   "outputs": [],
   "source": [
    "#==========================="
   ]
  }
 ],
 "metadata": {
  "kernelspec": {
   "display_name": "Python 3",
   "language": "python",
   "name": "python3"
  },
  "language_info": {
   "codemirror_mode": {
    "name": "ipython",
    "version": 3
   },
   "file_extension": ".py",
   "mimetype": "text/x-python",
   "name": "python",
   "nbconvert_exporter": "python",
   "pygments_lexer": "ipython3",
   "version": "3.6.4"
  }
 },
 "nbformat": 4,
 "nbformat_minor": 2
}
