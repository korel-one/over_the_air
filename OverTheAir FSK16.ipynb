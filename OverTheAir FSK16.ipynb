{
 "cells": [
  {
   "cell_type": "code",
   "execution_count": 1,
   "metadata": {},
   "outputs": [],
   "source": [
    "def bits2str(bits):\n",
    "    r = b''\n",
    "    for i in range(0, len(bits), 8):\n",
    "        r += int(bits[i:i+8], 2).to_bytes(1, 'big')\n",
    "    return r.decode('latin_1')"
   ]
  },
  {
   "cell_type": "code",
   "execution_count": 2,
   "metadata": {},
   "outputs": [],
   "source": [
    "import sounddevice as sd\n",
    "import numpy as np\n",
    "import matplotlib\n",
    "import matplotlib.pyplot as plt\n",
    "import time\n",
    "import scipy.io.wavfile as wav\n",
    "from scipy.fftpack import fft, ifft, fftfreq\n",
    "%matplotlib inline\n",
    "%config InlineBackend.figure_format = 'retina'\n",
    "matplotlib.rcParams['figure.figsize'] = [16, 5]"
   ]
  },
  {
   "cell_type": "code",
   "execution_count": 3,
   "metadata": {},
   "outputs": [],
   "source": [
    "from fsk16 import SoundCommunication2, str2bits"
   ]
  },
  {
   "cell_type": "code",
   "execution_count": 22,
   "metadata": {},
   "outputs": [],
   "source": [
    "msg = \"\"\"\n",
    "[ 7071.657145] CPU3: Core temperature above threshold, cpu clock throttled (total events = 88)\n",
    "[ 7071.657156] CPU2: Core temperature above threshold, cpu cloc\n",
    "\"\"\"\n",
    "r = str2bits(msg)\n",
    "FS = 44100\n",
    "sync = ''.join(map(lambda b: str(int(b)), np.random.rand(400) > 0.5))\n",
    "comm = SoundCommunication2(FS=FS, msgSymLen=len(r)//4,\n",
    "                    sync=sync)\n",
    "from testing import Tester\n",
    "t = Tester(comm)\n",
    "S = comm.send(r)\n",
    "assert comm.decode(S) == r"
   ]
  },
  {
   "cell_type": "code",
   "execution_count": 25,
   "metadata": {},
   "outputs": [],
   "source": [
    "W = sd.playrec(t.pad(S), samplerate=FS, channels=1, blocking=False).ravel()"
   ]
  },
  {
   "cell_type": "code",
   "execution_count": 14,
   "metadata": {
    "scrolled": false
   },
   "outputs": [],
   "source": [
    "WN = t.addBandpassNoise(W, 0, 2)"
   ]
  },
  {
   "cell_type": "code",
   "execution_count": 26,
   "metadata": {},
   "outputs": [
    {
     "data": {
      "text/plain": [
       "('XXXX1010XXXXXXXXXXXXXXXX0011XXXXXXXXXXXXXXXXXXXXXXXXXXXXXXXX11100011XXXXXXXXXXXXXXXXXXXXXXXXXXXXXXXX0100XXXXXXXX0101XXXXXXXXXXXX0100XXXX0101XXXX01010101XXXX0011XXXXXXXXXXXXXXXX0100XXXX01101111XXXXXXXX0110XXXXXXXXXXXX0111010001100101XXXX11010111XXXX0110XXXX0111XXXX0110XXXX01110100XXXXXXXXXXXXXXXX01100101XXXXXXXX0110XXXXXXXXXXXXXXXX1111XXXXXXXX0110XXXXXXXXXXXX01110100011010000111XXXX0110XXXXXXXXXXXX01101000XXXX1111XXXX1100XXXX0100XXXXXXXXXXXXXXXX0110XXXXXXXXXXXXXXXXXXXXXXXXXXXX01100011XXXXXXXXXXXX1111XXXX0011XXXXXXXXXXXXXXXX01110100011010000111XXXX01101111XXXX0100XXXX010001101100XXXXXXXXXXXX0100XXXXXXXXXXXXXXXX01110100XXXX1111XXXX0100XXXXXXXXXXXXXXXXXXXXXXXX0110XXXXXXXXXXXX0110XXXXXXXX111001110100XXXXXXXXXXXXXXXX0011XXXXXXXXXXXX0011XXXXXXXX1000XXXX1001XXXX1010XXXXXXXXXXXXXXXX0011XXXXXXXX0000XXXX0111XXXXXXXXXXXX11100011XXXXXXXXXXXXXXXX0111XXXXXXXXXXXX0101XXXX0110XXXXXXXXXXXXXXXX0100XXXX0101XXXXXXXX0101XXXXXXXXXXXX1010XXXXXXXX0100XXXX01101111XXXXXXXX0110XXXXXXXXXXXX0111010001100101XXXX1101XXXXXXXX0110XXXX0111XXXX0110XXXXXXXX0100XXXXXXXXXXXXXXXX01100101XXXXXXXXXXXXXXXXXXXXXXXXXXXX1111XXXXXXXX0110XXXXXXXXXXXX01110100011010000111XXXX0110XXXX0111001101101000XXXX1111XXXX1100XXXX0100XXXXXXXXXXXXXXXX011000110111XXXX0111XXXXXXXXXXXX011000110110XXXXXXXX1111XXXX0011XXXX1010',\n",
       " 0.609375)"
      ]
     },
     "execution_count": 26,
     "metadata": {},
     "output_type": "execute_result"
    }
   ],
   "source": [
    "wr = comm.decode(W)\n",
    "t.diff(wr, r, chunk_len=4)"
   ]
  }
 ],
 "metadata": {
  "kernelspec": {
   "display_name": "Python 3",
   "language": "python",
   "name": "python3"
  },
  "language_info": {
   "codemirror_mode": {
    "name": "ipython",
    "version": 3
   },
   "file_extension": ".py",
   "mimetype": "text/x-python",
   "name": "python",
   "nbconvert_exporter": "python",
   "pygments_lexer": "ipython3",
   "version": "3.6.5"
  }
 },
 "nbformat": 4,
 "nbformat_minor": 2
}
