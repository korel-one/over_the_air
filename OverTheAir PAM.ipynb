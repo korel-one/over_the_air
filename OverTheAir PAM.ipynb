{
 "cells": [
  {
   "cell_type": "code",
   "execution_count": 1,
   "metadata": {},
   "outputs": [],
   "source": [
    "import sounddevice as sd\n",
    "import numpy as np\n",
    "import matplotlib\n",
    "import matplotlib.pyplot as plt\n",
    "import time\n",
    "import scipy.io.wavfile as wav\n",
    "from scipy.fftpack import fft, ifft, fftfreq\n",
    "%matplotlib inline\n",
    "%config InlineBackend.figure_format = 'retina'\n",
    "matplotlib.rcParams['figure.figsize'] = [16, 5]"
   ]
  },
  {
   "cell_type": "code",
   "execution_count": 2,
   "metadata": {},
   "outputs": [],
   "source": [
    "def str2bits(str):\n",
    "    res = bin(int.from_bytes(str.encode('ascii'), 'big'))[2:]\n",
    "    return '0'*(8 - (len(res) % 8)) + res"
   ]
  },
  {
   "cell_type": "code",
   "execution_count": 3,
   "metadata": {},
   "outputs": [],
   "source": [
    "from over_the_air import SoundCommunication"
   ]
  },
  {
   "cell_type": "code",
   "execution_count": 4,
   "metadata": {},
   "outputs": [],
   "source": [
    "msg = \"\"\"\n",
    "[ 7071.657145] CPU3: Core temperature above threshold, cpu clock throttled (total events = 88)\n",
    "[ 7071.657156] CPU2: Core temperature above threshold, cpu cloc\n",
    "\"\"\""
   ]
  },
  {
   "cell_type": "code",
   "execution_count": 5,
   "metadata": {},
   "outputs": [],
   "source": [
    "r = str2bits(msg)\n",
    "sync = ''.join(map(lambda x: str(int(x)), np.random.rand(100) > 0.5))\n",
    "comm = SoundCommunication(44100, 200, len(r), sync)\n",
    "\n",
    "from testing import Tester\n",
    "t = Tester(comm)\n",
    "S = comm.send(r)"
   ]
  },
  {
   "cell_type": "code",
   "execution_count": 6,
   "metadata": {},
   "outputs": [],
   "source": [
    "assert comm.decode(S) == r\n",
    "assert comm.decode(-S) == r"
   ]
  },
  {
   "cell_type": "code",
   "execution_count": 7,
   "metadata": {},
   "outputs": [],
   "source": [
    "# wav.write('w.wav', data=W, rate=comm.FS)"
   ]
  },
  {
   "cell_type": "code",
   "execution_count": 8,
   "metadata": {},
   "outputs": [],
   "source": [
    "# W = sd.playrec(t.pad(S), channels=1, samplerate=comm.FS).ravel()"
   ]
  },
  {
   "cell_type": "code",
   "execution_count": 14,
   "metadata": {},
   "outputs": [],
   "source": [
    "FS, W = wav.read('./w.wav')"
   ]
  },
  {
   "cell_type": "code",
   "execution_count": 15,
   "metadata": {},
   "outputs": [
    {
     "ename": "ValueError",
     "evalue": "operands could not be broadcast together with shapes (273420,) (303600,) ",
     "output_type": "error",
     "traceback": [
      "\u001b[0;31m---------------------------------------------------------------------------\u001b[0m",
      "\u001b[0;31mValueError\u001b[0m                                Traceback (most recent call last)",
      "\u001b[0;32m<ipython-input-15-3c89693ff05a>\u001b[0m in \u001b[0;36m<module>\u001b[0;34m()\u001b[0m\n\u001b[0;32m----> 1\u001b[0;31m \u001b[0mwr\u001b[0m \u001b[0;34m=\u001b[0m \u001b[0mcomm\u001b[0m\u001b[0;34m.\u001b[0m\u001b[0mdecode\u001b[0m\u001b[0;34m(\u001b[0m\u001b[0mW\u001b[0m\u001b[0;34m)\u001b[0m\u001b[0;34m\u001b[0m\u001b[0m\n\u001b[0m\u001b[1;32m      2\u001b[0m \u001b[0mt\u001b[0m\u001b[0;34m.\u001b[0m\u001b[0mdiff\u001b[0m\u001b[0;34m(\u001b[0m\u001b[0mwr\u001b[0m\u001b[0;34m,\u001b[0m \u001b[0mr\u001b[0m\u001b[0;34m)\u001b[0m\u001b[0;34m\u001b[0m\u001b[0m\n",
      "\u001b[0;32m~/Documents/epfl/bachelor6/PDC/over_the_air/over_the_air.py\u001b[0m in \u001b[0;36mdecode\u001b[0;34m(self, W)\u001b[0m\n\u001b[1;32m     57\u001b[0m     \u001b[0;32mdef\u001b[0m \u001b[0mdecode\u001b[0m\u001b[0;34m(\u001b[0m\u001b[0mself\u001b[0m\u001b[0;34m,\u001b[0m \u001b[0mW\u001b[0m\u001b[0;34m)\u001b[0m\u001b[0;34m:\u001b[0m\u001b[0;34m\u001b[0m\u001b[0m\n\u001b[1;32m     58\u001b[0m         \u001b[0mcorrelating_sync\u001b[0m \u001b[0;34m=\u001b[0m \u001b[0mself\u001b[0m\u001b[0;34m.\u001b[0m\u001b[0msend\u001b[0m\u001b[0;34m(\u001b[0m\u001b[0;34m''\u001b[0m\u001b[0;34m)\u001b[0m\u001b[0;34m\u001b[0m\u001b[0m\n\u001b[0;32m---> 59\u001b[0;31m         \u001b[0mcorr\u001b[0m \u001b[0;34m=\u001b[0m \u001b[0mself\u001b[0m\u001b[0;34m.\u001b[0m\u001b[0m_correlate\u001b[0m\u001b[0;34m(\u001b[0m\u001b[0mW\u001b[0m\u001b[0;34m[\u001b[0m\u001b[0;34m:\u001b[0m\u001b[0;34m(\u001b[0m\u001b[0mself\u001b[0m\u001b[0;34m.\u001b[0m\u001b[0msymlen\u001b[0m \u001b[0;34m+\u001b[0m \u001b[0mself\u001b[0m\u001b[0;34m.\u001b[0m\u001b[0msynclen\u001b[0m\u001b[0;34m)\u001b[0m \u001b[0;34m*\u001b[0m \u001b[0mself\u001b[0m\u001b[0;34m.\u001b[0m\u001b[0msymsamp\u001b[0m\u001b[0;34m]\u001b[0m\u001b[0;34m,\u001b[0m \u001b[0mcorrelating_sync\u001b[0m\u001b[0;34m)\u001b[0m\u001b[0;34m\u001b[0m\u001b[0m\n\u001b[0m\u001b[1;32m     60\u001b[0m \u001b[0;34m\u001b[0m\u001b[0m\n\u001b[1;32m     61\u001b[0m         \u001b[0mstart_sync\u001b[0m \u001b[0;34m=\u001b[0m \u001b[0mnp\u001b[0m\u001b[0;34m.\u001b[0m\u001b[0margmax\u001b[0m\u001b[0;34m(\u001b[0m\u001b[0mnp\u001b[0m\u001b[0;34m.\u001b[0m\u001b[0mabs\u001b[0m\u001b[0;34m(\u001b[0m\u001b[0mcorr\u001b[0m\u001b[0;34m)\u001b[0m\u001b[0;34m)\u001b[0m \u001b[0;31m# take the absolute value because the microphone\u001b[0m\u001b[0;34m\u001b[0m\u001b[0m\n",
      "\u001b[0;32m~/Documents/epfl/bachelor6/PDC/over_the_air/over_the_air.py\u001b[0m in \u001b[0;36m_correlate\u001b[0;34m(self, x, y)\u001b[0m\n\u001b[1;32m     53\u001b[0m             \u001b[0my\u001b[0m \u001b[0;34m=\u001b[0m \u001b[0mnp\u001b[0m\u001b[0;34m.\u001b[0m\u001b[0mzeros\u001b[0m\u001b[0;34m(\u001b[0m\u001b[0mx\u001b[0m\u001b[0;34m.\u001b[0m\u001b[0mshape\u001b[0m\u001b[0;34m)\u001b[0m\u001b[0;34m\u001b[0m\u001b[0m\n\u001b[1;32m     54\u001b[0m             \u001b[0my\u001b[0m\u001b[0;34m[\u001b[0m\u001b[0;34m:\u001b[0m\u001b[0myold\u001b[0m\u001b[0;34m.\u001b[0m\u001b[0msize\u001b[0m\u001b[0;34m]\u001b[0m \u001b[0;34m=\u001b[0m \u001b[0myold\u001b[0m\u001b[0;34m\u001b[0m\u001b[0m\n\u001b[0;32m---> 55\u001b[0;31m         \u001b[0;32mreturn\u001b[0m \u001b[0mifft\u001b[0m\u001b[0;34m(\u001b[0m\u001b[0mfft\u001b[0m\u001b[0;34m(\u001b[0m\u001b[0mx\u001b[0m\u001b[0;34m)\u001b[0m \u001b[0;34m*\u001b[0m \u001b[0mfft\u001b[0m\u001b[0;34m(\u001b[0m\u001b[0my\u001b[0m\u001b[0;34m)\u001b[0m\u001b[0;34m.\u001b[0m\u001b[0mconj\u001b[0m\u001b[0;34m(\u001b[0m\u001b[0;34m)\u001b[0m\u001b[0;34m)\u001b[0m\u001b[0;34m.\u001b[0m\u001b[0mreal\u001b[0m\u001b[0;34m\u001b[0m\u001b[0m\n\u001b[0m\u001b[1;32m     56\u001b[0m \u001b[0;34m\u001b[0m\u001b[0m\n\u001b[1;32m     57\u001b[0m     \u001b[0;32mdef\u001b[0m \u001b[0mdecode\u001b[0m\u001b[0;34m(\u001b[0m\u001b[0mself\u001b[0m\u001b[0;34m,\u001b[0m \u001b[0mW\u001b[0m\u001b[0;34m)\u001b[0m\u001b[0;34m:\u001b[0m\u001b[0;34m\u001b[0m\u001b[0m\n",
      "\u001b[0;31mValueError\u001b[0m: operands could not be broadcast together with shapes (273420,) (303600,) "
     ]
    }
   ],
   "source": [
    "wr = comm.decode(W)\n",
    "t.diff(wr, r)"
   ]
  },
  {
   "cell_type": "code",
   "execution_count": 274,
   "metadata": {},
   "outputs": [],
   "source": [
    "msg = \"\"\"\n",
    "[ 7071.657145] CPU3: Core temperature above threshold, cpu clock throttled (total events = 88)\n",
    "[ 7071.657156] CPU2: Core temperature above threshold, cpu cloc\n",
    "\"\"\"\n",
    "sync = '11111010000100011000001010010100001100010011011000110001001111100001100100010100001110101111000000011010000001001010011000111100111100011110111000100110000110111011011111101110000011100010110111111110'\n",
    "r = str2bits(msg)\n",
    "#sync = ''.join(map(lambda x: str(int(x)), np.random.rand(200) > 0.5))\n",
    "comm = SoundCommunication(44100, 100, len(r), sync)\n",
    "\n",
    "from testing import Tester\n",
    "t = Tester(comm)\n",
    "S = comm.send(r)"
   ]
  },
  {
   "cell_type": "code",
   "execution_count": 277,
   "metadata": {},
   "outputs": [],
   "source": [
    "W = sd.playrec(t.pad(S), channels=1, samplerate=comm.FS).ravel()"
   ]
  },
  {
   "cell_type": "code",
   "execution_count": 268,
   "metadata": {},
   "outputs": [],
   "source": [
    "WN = t.addBandpassNoise(W, 0, 1)"
   ]
  },
  {
   "cell_type": "code",
   "execution_count": 278,
   "metadata": {},
   "outputs": [
    {
     "data": {
      "text/plain": [
       "('0000101001X110X1001X000000110X110011000000110X1100110001X01X111000110X1000110X0100110X11001100010011010000110X0101011101001X0000010000110X01000001010101001100110011101000100000010000110X1011110111001X01100101001X000001110100011001010110X10101110000011001010111001X011000010X110100011101010111001X01100101001X0000011000010X10001X0110X1110X11011001100101001X0000011101000110X000011100100110010101110011011010000110X1110X10X100011001X00010X100001X0000011000110X11000X01110101001X0000011000110X10X1000110X111011000110X10101100100000011101000110X000011100100110X11101110100011101000110X1000110010101100100001X000000101000011101000110X11101110100011000010X10X100X01X0000011001010X110X10011X01010X10X110011101X001110011001X000XX0111101X01X0000X0111000X0111000X0101001X0X01010010110X100100X00X0110X1100110000X0110X1100110001X01X11X0001101100011010100110X1100110001X0110101X0110X1001011X0100100X000100X011010X00XXX101XX01X01100100XX110XX0X1XXX0XX1XXX0110110X1X1XX1X001001X0X101X01X0XXXX1X10X00X11X0101XX10XX01XX1100X0X11X0101XX1X0010X1X0X001XX1X0X00X1X10X0XXX1XX0X0X1XXXX01X01X0XXXX1XXXX01XX10XXXXX1X01XX10XXXXXX0XXXXXX01X01X0XXXX1X1XX00X11X100X01110010X110XX01XX1X001101X0100XX11XXXXX0X10110XXX1XX10XX01XXX0XX01XXXXXX1XXXXXXX1XX00XXX1XXXX0XX010XX0XX1XXXXXXX1X0XX0XXXXX1XXX0XX0XXXXXXXXXXXX',\n",
       " 0.2203125)"
      ]
     },
     "execution_count": 278,
     "metadata": {},
     "output_type": "execute_result"
    }
   ],
   "source": [
    "wr = comm.decode(W)\n",
    "t.diff(wr, r)"
   ]
  }
 ],
 "metadata": {
  "kernelspec": {
   "display_name": "Python 3",
   "language": "python",
   "name": "python3"
  },
  "language_info": {
   "codemirror_mode": {
    "name": "ipython",
    "version": 3
   },
   "file_extension": ".py",
   "mimetype": "text/x-python",
   "name": "python",
   "nbconvert_exporter": "python",
   "pygments_lexer": "ipython3",
   "version": "3.6.5"
  }
 },
 "nbformat": 4,
 "nbformat_minor": 2
}
