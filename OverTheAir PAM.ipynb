{
 "cells": [
  {
   "cell_type": "code",
   "execution_count": 1,
   "metadata": {},
   "outputs": [],
   "source": [
    "import sounddevice as sd\n",
    "import numpy as np\n",
    "import matplotlib\n",
    "import matplotlib.pyplot as plt\n",
    "import time\n",
    "import scipy.io.wavfile as wav\n",
    "from scipy.fftpack import fft, ifft, fftfreq\n",
    "%matplotlib inline\n",
    "%config InlineBackend.figure_format = 'retina'\n",
    "matplotlib.rcParams['figure.figsize'] = [16, 5]"
   ]
  },
  {
   "cell_type": "code",
   "execution_count": 2,
   "metadata": {},
   "outputs": [],
   "source": [
    "def str2bits(str):\n",
    "    res = bin(int.from_bytes(str.encode('ascii'), 'big'))[2:]\n",
    "    return '0'*(8 - (len(res) % 8)) + res"
   ]
  },
  {
   "cell_type": "code",
   "execution_count": 8,
   "metadata": {},
   "outputs": [],
   "source": [
    "from pam import SoundCommunication"
   ]
  },
  {
   "cell_type": "code",
   "execution_count": 4,
   "metadata": {},
   "outputs": [],
   "source": [
    "msg = \"\"\"\n",
    "[ 7071.657145] CPU3: Core temperature above threshold, cpu clock throttled (total events = 88)\n",
    "[ 7071.657156] CPU2: Core temperature above threshold, cpu cloc\n",
    "\"\"\""
   ]
  },
  {
   "cell_type": "code",
   "execution_count": 9,
   "metadata": {},
   "outputs": [
    {
     "name": "stdout",
     "output_type": "stream",
     "text": [
      "specified sync discarded\n"
     ]
    }
   ],
   "source": [
    "r = str2bits(msg)\n",
    "sync = ''.join(map(lambda x: str(int(x)), np.random.rand(100) > 0.5))\n",
    "comm = SoundCommunication(44100, 100, len(r), sync)\n",
    "\n",
    "from testing import Tester\n",
    "t = Tester(comm)\n",
    "S = comm.send(r)"
   ]
  },
  {
   "cell_type": "code",
   "execution_count": 44,
   "metadata": {},
   "outputs": [
    {
     "data": {
      "text/plain": [
       "'1100001111100011011101101101011001111100100100001000010100111000001000110011110011110110101110100110'"
      ]
     },
     "execution_count": 44,
     "metadata": {},
     "output_type": "execute_result"
    }
   ],
   "source": [
    "sync"
   ]
  },
  {
   "cell_type": "code",
   "execution_count": 7,
   "metadata": {},
   "outputs": [],
   "source": [
    "assert comm.decode(S) == r\n",
    "assert comm.decode(-S) == r"
   ]
  },
  {
   "cell_type": "code",
   "execution_count": 7,
   "metadata": {},
   "outputs": [],
   "source": [
    "# wav.write('w.wav', data=W, rate=comm.FS)"
   ]
  },
  {
   "cell_type": "code",
   "execution_count": 37,
   "metadata": {},
   "outputs": [
    {
     "data": {
      "text/plain": [
       "13.8"
      ]
     },
     "execution_count": 37,
     "metadata": {},
     "output_type": "execute_result"
    }
   ],
   "source": [
    "(160*8 + 100)/100"
   ]
  },
  {
   "cell_type": "code",
   "execution_count": 36,
   "metadata": {},
   "outputs": [],
   "source": [
    "W = sd.playrec(t.pad(S), channels=1, samplerate=comm.FS).ravel()"
   ]
  },
  {
   "cell_type": "code",
   "execution_count": 38,
   "metadata": {},
   "outputs": [
    {
     "data": {
      "text/plain": [
       "('00001010010110110010000000110111001100000011011100110001001011100011011000110101001101110011000100110100001101010101110100100000010000110101000001010101001100110011101000100000010000110110111101110010011001010010000001110100011001010110110101110000011001010111001001100001011101000111010101110010011001010010000001100001011000100110111101110110011001010010000001110100011010000111001001100101011100110110100001101111011011000110010000101100001000000110001101110000011101010010000001100011011011000110111101100011011010110010000001110100011010000111001001101111011101000111010001101100011001010110010000100000001010000111010001101111011101000110000101101100001000000110010101110110011001010110111001110100011100110010000000111101001000000011100000111000001010010000101001011011001000000011011100110000001101110011000100101110001101100011010100110111001100010011010100110110010111010010000001000011010100000101010100110010001110100010000001000011011011110111001001100101001000000111010001100101011011010111000001100101011100100110000101110100011101010111001001100101001000000110000101100010011011110111011001100101001000000111010001101000011100100110010101110011011010000110111101101100011001000010110000100000011000110111000001110101001000000110001101101100011011110110001100001010',\n",
       " 0.0)"
      ]
     },
     "execution_count": 38,
     "metadata": {},
     "output_type": "execute_result"
    }
   ],
   "source": [
    "wr = comm.decode(W)\n",
    "t.diff(wr, r)"
   ]
  },
  {
   "cell_type": "code",
   "execution_count": 14,
   "metadata": {},
   "outputs": [],
   "source": [
    "FS, W = wav.read('./w.wav')"
   ]
  },
  {
   "cell_type": "code",
   "execution_count": 274,
   "metadata": {},
   "outputs": [],
   "source": [
    "msg = \"\"\"\n",
    "[ 7071.657145] CPU3: Core temperature above threshold, cpu clock throttled (total events = 88)\n",
    "[ 7071.657156] CPU2: Core temperature above threshold, cpu cloc\n",
    "\"\"\"\n",
    "sync = '11111010000100011000001010010100001100010011011000110001001111100001100100010100001110101111000000011010000001001010011000111100111100011110111000100110000110111011011111101110000011100010110111111110'\n",
    "r = str2bits(msg)\n",
    "#sync = ''.join(map(lambda x: str(int(x)), np.random.rand(200) > 0.5))\n",
    "comm = SoundCommunication(44100, 100, len(r), sync)\n",
    "\n",
    "from testing import Tester\n",
    "t = Tester(comm)\n",
    "S = comm.send(r)"
   ]
  },
  {
   "cell_type": "code",
   "execution_count": 277,
   "metadata": {},
   "outputs": [],
   "source": [
    "W = sd.playrec(t.pad(S), channels=1, samplerate=comm.FS).ravel()"
   ]
  },
  {
   "cell_type": "code",
   "execution_count": 268,
   "metadata": {},
   "outputs": [],
   "source": [
    "WN = t.addBandpassNoise(W, 0, 1)"
   ]
  },
  {
   "cell_type": "code",
   "execution_count": 278,
   "metadata": {},
   "outputs": [
    {
     "data": {
      "text/plain": [
       "('0000101001X110X1001X000000110X110011000000110X1100110001X01X111000110X1000110X0100110X11001100010011010000110X0101011101001X0000010000110X01000001010101001100110011101000100000010000110X1011110111001X01100101001X000001110100011001010110X10101110000011001010111001X011000010X110100011101010111001X01100101001X0000011000010X10001X0110X1110X11011001100101001X0000011101000110X000011100100110010101110011011010000110X1110X10X100011001X00010X100001X0000011000110X11000X01110101001X0000011000110X10X1000110X111011000110X10101100100000011101000110X000011100100110X11101110100011101000110X1000110010101100100001X000000101000011101000110X11101110100011000010X10X100X01X0000011001010X110X10011X01010X10X110011101X001110011001X000XX0111101X01X0000X0111000X0111000X0101001X0X01010010110X100100X00X0110X1100110000X0110X1100110001X01X11X0001101100011010100110X1100110001X0110101X0110X1001011X0100100X000100X011010X00XXX101XX01X01100100XX110XX0X1XXX0XX1XXX0110110X1X1XX1X001001X0X101X01X0XXXX1X10X00X11X0101XX10XX01XX1100X0X11X0101XX1X0010X1X0X001XX1X0X00X1X10X0XXX1XX0X0X1XXXX01X01X0XXXX1XXXX01XX10XXXXX1X01XX10XXXXXX0XXXXXX01X01X0XXXX1X1XX00X11X100X01110010X110XX01XX1X001101X0100XX11XXXXX0X10110XXX1XX10XX01XXX0XX01XXXXXX1XXXXXXX1XX00XXX1XXXX0XX010XX0XX1XXXXXXX1X0XX0XXXXX1XXX0XX0XXXXXXXXXXXX',\n",
       " 0.2203125)"
      ]
     },
     "execution_count": 278,
     "metadata": {},
     "output_type": "execute_result"
    }
   ],
   "source": [
    "wr = comm.decode(W)\n",
    "t.diff(wr, r)"
   ]
  }
 ],
 "metadata": {
  "kernelspec": {
   "display_name": "Python 3",
   "language": "python",
   "name": "python3"
  },
  "language_info": {
   "codemirror_mode": {
    "name": "ipython",
    "version": 3
   },
   "file_extension": ".py",
   "mimetype": "text/x-python",
   "name": "python",
   "nbconvert_exporter": "python",
   "pygments_lexer": "ipython3",
   "version": "3.6.5"
  }
 },
 "nbformat": 4,
 "nbformat_minor": 2
}
