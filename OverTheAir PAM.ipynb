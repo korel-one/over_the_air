{
 "cells": [
  {
   "cell_type": "code",
   "execution_count": 1,
   "metadata": {},
   "outputs": [],
   "source": [
    "import sounddevice as sd\n",
    "import numpy as np\n",
    "import matplotlib\n",
    "import matplotlib.pyplot as plt\n",
    "import time\n",
    "import scipy.io.wavfile as wav\n",
    "from scipy.fftpack import fft, ifft, fftfreq\n",
    "%matplotlib inline\n",
    "%config InlineBackend.figure_format = 'retina'\n",
    "matplotlib.rcParams['figure.figsize'] = [16, 5]"
   ]
  },
  {
   "cell_type": "code",
   "execution_count": 2,
   "metadata": {},
   "outputs": [],
   "source": [
    "def str2bits(str):\n",
    "    res = bin(int.from_bytes(str.encode('ascii'), 'big'))[2:]\n",
    "    return '0'*(8 - (len(res) % 8)) + res"
   ]
  },
  {
   "cell_type": "code",
   "execution_count": 3,
   "metadata": {},
   "outputs": [],
   "source": [
    "from over_the_air import SoundCommunication"
   ]
  },
  {
   "cell_type": "code",
   "execution_count": 4,
   "metadata": {},
   "outputs": [],
   "source": [
    "msg = \"\"\"\n",
    "[ 7071.657145] CPU3: Core temperature above threshold, cpu clock throttled (total events = 88)\n",
    "[ 7071.657156] CPU2: Core temperature above threshold, cpu cloc\n",
    "\"\"\""
   ]
  },
  {
   "cell_type": "code",
   "execution_count": 6,
   "metadata": {},
   "outputs": [],
   "source": [
    "r = str2bits(msg)\n",
    "sync = ''.join(map(lambda x: str(int(x)), np.random.rand(100) > 0.5))\n",
    "comm = SoundCommunication(44100, 100, len(r), sync)\n",
    "\n",
    "from testing import Tester\n",
    "t = Tester(comm)\n",
    "S = comm.send(r)"
   ]
  },
  {
   "cell_type": "code",
   "execution_count": 7,
   "metadata": {},
   "outputs": [],
   "source": [
    "assert comm.decode(S) == r\n",
    "assert comm.decode(-S) == r"
   ]
  },
  {
   "cell_type": "code",
   "execution_count": 32,
   "metadata": {},
   "outputs": [],
   "source": [
    "# wav.write('w.wav', data=W, rate=comm.FS)"
   ]
  },
  {
   "cell_type": "code",
   "execution_count": 10,
   "metadata": {},
   "outputs": [],
   "source": [
    "W = sd.playrec(t.pad(S), channels=1, samplerate=comm.FS).ravel()"
   ]
  },
  {
   "cell_type": "code",
   "execution_count": 11,
   "metadata": {},
   "outputs": [
    {
     "data": {
      "text/plain": [
       "('XX00101X010X10X10010X00XX0X10111X0X10000X0X10X11X0X10001X010X11XX0110X1XX0X10XX1X0X10111X0X10001X0X1010XX0X101X1X101X101X0100X000XXXX01101X1X00X01010101X0X100X1X0X1101XX010X00X0XXXX0X1011011X10X11001X0X1X0X01001X0X000X1101XX0X1X01010X10X1010X110X000X1X01010X11001X0X1XX0010X1101XX0XX101X10X11001X0X1X0X01001X0X000X1X0X010X10001X0X101X110X11011X0X1X0X01001X0X000X1101XX0X101XXX0X1X001X01100X010X1100110X10100X0X1011X10X10X10X0X1001X0X010X1XXX01X0X000X1XX0110X11X00X0XX10101X01X0X00XX1XX0110110110X0X10X1110X1000X10X1010X100100X0XXX11X1XXXX1XX00X0X11XX1001XX1XX10X1X0X000XX10XX00X1X1XXX0X1001010X1X010XX01X0XX0X01X1XXX0X11X1000X1XXX110X1X01000X1X00010110110XX0100X00X11XX101XX1101100XXX0X010X1XX11X0X110XX00X11001X0X10000XX01111X1X0X00000X0111XXX0X111X000XXX1X010XXXXX1XX1011X1X0XX0XX0XXX11X11XXXXX00000011X1X1XXXX000X001X11XXX0XXX1X000X1XXX1001XX1XXX0XX00XX0X11X101X0XXX1X0XX011XXX0010XX00X1XXXX11X1XX00X0XXX1XXX1XX1X0XX0XXX1101X00XXX00XX1XXXX11X1101XX10XXX00X00XXXXX01X0100XXXX111X10XXXXXXX01XX1XXXX10X1X0000X11XXXX1X11X0XX0XXXXX0X1X11XXX00XX1XXX0XXX1XX0X0XXXXXXX1XX10X0XXX1XXX0X1X110X0X0X1XX1XX10XXX0XX0XXXXXXX10X10XXXXX111XX00XXXXX0000111XXX0X1XXXX01XX1X0X1XX1XXX00X0X1X11X1XXX0XX0X0X1XX10XX01XX1XX001X0X00X11XXX11X11X00000X11XX01X010000XXX1XXX11X11XXX0X0XXX1XXX01X000XX00XXXX1X',\n",
       " 0.41875)"
      ]
     },
     "execution_count": 11,
     "metadata": {},
     "output_type": "execute_result"
    }
   ],
   "source": [
    "wr = comm.decode(W)\n",
    "t.diff(wr, r)"
   ]
  },
  {
   "cell_type": "code",
   "execution_count": 274,
   "metadata": {},
   "outputs": [],
   "source": [
    "msg = \"\"\"\n",
    "[ 7071.657145] CPU3: Core temperature above threshold, cpu clock throttled (total events = 88)\n",
    "[ 7071.657156] CPU2: Core temperature above threshold, cpu cloc\n",
    "\"\"\"\n",
    "sync = '11111010000100011000001010010100001100010011011000110001001111100001100100010100001110101111000000011010000001001010011000111100111100011110111000100110000110111011011111101110000011100010110111111110'\n",
    "r = str2bits(msg)\n",
    "#sync = ''.join(map(lambda x: str(int(x)), np.random.rand(200) > 0.5))\n",
    "comm = SoundCommunication(44100, 100, len(r), sync)\n",
    "\n",
    "from testing import Tester\n",
    "t = Tester(comm)\n",
    "S = comm.send(r)"
   ]
  },
  {
   "cell_type": "code",
   "execution_count": 277,
   "metadata": {},
   "outputs": [],
   "source": [
    "W = sd.playrec(t.pad(S), channels=1, samplerate=comm.FS).ravel()"
   ]
  },
  {
   "cell_type": "code",
   "execution_count": 268,
   "metadata": {},
   "outputs": [],
   "source": [
    "WN = t.addBandpassNoise(W, 0, 1)"
   ]
  },
  {
   "cell_type": "code",
   "execution_count": 278,
   "metadata": {},
   "outputs": [
    {
     "data": {
      "text/plain": [
       "('0000101001X110X1001X000000110X110011000000110X1100110001X01X111000110X1000110X0100110X11001100010011010000110X0101011101001X0000010000110X01000001010101001100110011101000100000010000110X1011110111001X01100101001X000001110100011001010110X10101110000011001010111001X011000010X110100011101010111001X01100101001X0000011000010X10001X0110X1110X11011001100101001X0000011101000110X000011100100110010101110011011010000110X1110X10X100011001X00010X100001X0000011000110X11000X01110101001X0000011000110X10X1000110X111011000110X10101100100000011101000110X000011100100110X11101110100011101000110X1000110010101100100001X000000101000011101000110X11101110100011000010X10X100X01X0000011001010X110X10011X01010X10X110011101X001110011001X000XX0111101X01X0000X0111000X0111000X0101001X0X01010010110X100100X00X0110X1100110000X0110X1100110001X01X11X0001101100011010100110X1100110001X0110101X0110X1001011X0100100X000100X011010X00XXX101XX01X01100100XX110XX0X1XXX0XX1XXX0110110X1X1XX1X001001X0X101X01X0XXXX1X10X00X11X0101XX10XX01XX1100X0X11X0101XX1X0010X1X0X001XX1X0X00X1X10X0XXX1XX0X0X1XXXX01X01X0XXXX1XXXX01XX10XXXXX1X01XX10XXXXXX0XXXXXX01X01X0XXXX1X1XX00X11X100X01110010X110XX01XX1X001101X0100XX11XXXXX0X10110XXX1XX10XX01XXX0XX01XXXXXX1XXXXXXX1XX00XXX1XXXX0XX010XX0XX1XXXXXXX1X0XX0XXXXX1XXX0XX0XXXXXXXXXXXX',\n",
       " 0.2203125)"
      ]
     },
     "execution_count": 278,
     "metadata": {},
     "output_type": "execute_result"
    }
   ],
   "source": [
    "wr = comm.decode(W)\n",
    "t.diff(wr, r)"
   ]
  }
 ],
 "metadata": {
  "kernelspec": {
   "display_name": "Python 3",
   "language": "python",
   "name": "python3"
  },
  "language_info": {
   "codemirror_mode": {
    "name": "ipython",
    "version": 3
   },
   "file_extension": ".py",
   "mimetype": "text/x-python",
   "name": "python",
   "nbconvert_exporter": "python",
   "pygments_lexer": "ipython3",
   "version": "3.6.5"
  }
 },
 "nbformat": 4,
 "nbformat_minor": 2
}
